{
 "cells": [
  {
   "cell_type": "code",
   "execution_count": 2,
   "metadata": {},
   "outputs": [
    {
     "name": "stdout",
     "output_type": "stream",
     "text": [
      "Data exported to 'coffee_shops.csv' successfully.\n"
     ]
    }
   ],
   "source": [
    "import requests\n",
    "import csv\n",
    "\n",
    "API_KEY = 'D1zQeKoZHUWVQgBkyqn-AXY8adAIpItkX0F7NfQFaF_R7Z7E2eGDOIdru3k7Pr_b_PtTBnlfqiPCVv7dU7qYgW9PFVNZXS5Zjdmn6cX3PuWOu9iJThomGa5Rx9LLZHYx'\n",
    "\n",
    "# Define the endpoint URL\n",
    "url = 'https://api.yelp.com/v3/businesses/search'\n",
    "\n",
    "# Parameters for the search\n",
    "params = {\n",
    "    'term': 'coffee shop',\n",
    "    'location': 'Kansas City',\n",
    "    'categories': 'coffee',\n",
    "    'radius': 20000,  # Radius in meters (adjust as needed)\n",
    "    'limit':  50    # Number of results per request (adjust as needed)\n",
    "}\n",
    "\n",
    "headers = {\n",
    "    'Authorization': f'Bearer {API_KEY}'\n",
    "}\n",
    "\n",
    "# Make the API request\n",
    "response = requests.get(url, params=params, headers=headers)\n",
    "data = response.json()\n",
    "\n",
    "# Check if the 'businesses' key exists in the response\n",
    "if 'businesses' in data:\n",
    "    businesses = data['businesses']\n",
    "    \n",
    "    # Define CSV file name\n",
    "    csv_filename = 'coffee_shops.csv'\n",
    "    \n",
    "    # Open CSV file for writing\n",
    "    with open(csv_filename, 'w', newline='', encoding='utf-8') as csvfile:\n",
    "        csv_writer = csv.writer(csvfile)\n",
    "        \n",
    "        # Write header row\n",
    "        csv_writer.writerow(['Name', 'Latitude', 'Longitude'])\n",
    "        \n",
    "        # Write data rows\n",
    "        for business in businesses:\n",
    "            name = business['name']\n",
    "            latitude = business['coordinates']['latitude']\n",
    "            longitude = business['coordinates']['longitude']\n",
    "            csv_writer.writerow([name, latitude, longitude])\n",
    "    \n",
    "    print(f\"Data exported to '{csv_filename}' successfully.\")\n",
    "else:\n",
    "    print(\"No businesses found in the response.\")\n"
   ]
  }
 ],
 "metadata": {
  "kernelspec": {
   "display_name": "base",
   "language": "python",
   "name": "python3"
  },
  "language_info": {
   "codemirror_mode": {
    "name": "ipython",
    "version": 3
   },
   "file_extension": ".py",
   "mimetype": "text/x-python",
   "name": "python",
   "nbconvert_exporter": "python",
   "pygments_lexer": "ipython3",
   "version": "3.10.9"
  },
  "orig_nbformat": 4
 },
 "nbformat": 4,
 "nbformat_minor": 2
}
